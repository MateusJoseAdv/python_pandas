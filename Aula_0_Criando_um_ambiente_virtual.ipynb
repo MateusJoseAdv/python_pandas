{
  "nbformat": 4,
  "nbformat_minor": 0,
  "metadata": {
    "colab": {
      "name": "Aula 0 - Criando um ambiente virtual.ipynb",
      "provenance": [],
      "collapsed_sections": [],
      "authorship_tag": "ABX9TyOk4WepsP8voS0LSVjnPGHV"
    },
    "kernelspec": {
      "name": "python3",
      "display_name": "Python 3"
    },
    "language_info": {
      "name": "python"
    }
  },
  "cells": [
    {
      "cell_type": "markdown",
      "source": [
        "# **Python Pandas: tratando e analisando dados**"
      ],
      "metadata": {
        "id": "84g8jd9XYuFG"
      }
    },
    {
      "cell_type": "markdown",
      "source": [
        "## ***Aula 0 - Criando um ambiente virtual***"
      ],
      "metadata": {
        "id": "oy_AT1jQZBAf"
      }
    },
    {
      "cell_type": "code",
      "execution_count": 3,
      "metadata": {
        "id": "joq3sOsEO9bY"
      },
      "outputs": [],
      "source": [
        "import pandas as pd"
      ]
    },
    {
      "cell_type": "code",
      "source": [
        "pd.__version__"
      ],
      "metadata": {
        "colab": {
          "base_uri": "https://localhost:8080/",
          "height": 35
        },
        "id": "w6mGQzciagsl",
        "outputId": "a020065b-b657-49da-b36c-08f0967aa4ed"
      },
      "execution_count": 7,
      "outputs": [
        {
          "output_type": "execute_result",
          "data": {
            "text/plain": [
              "'1.3.5'"
            ],
            "application/vnd.google.colaboratory.intrinsic+json": {
              "type": "string"
            }
          },
          "metadata": {},
          "execution_count": 7
        }
      ]
    },
    {
      "cell_type": "code",
      "source": [
        "# A criação de ambientes virtuais é de suma importância para o trabalho do cientista de DS.\n",
        "# Suponhamos que fora escrito um código há 1 ano atrás, cuja produção utilizou um conjunto de bibliotecas, pacotes e bases de dados.\n",
        "# Este código foi desenvolvido para a realização de um projeto e sua extensão/tamanho era enorme.\n",
        "# Passados 2 anos da conclusão deste projeto, o responsável pelo setor lembra de sua existência e solicita sua alteração,\n",
        "# exigindo agora a análise de dados tomando como base novas bases.\n",
        "# Desavisado, o cientista de DS simplesmente altera as bases de dados velhas pelas novas. Será que esta ação gerará frutos?\n",
        "# O que usualmente ocorre é que, devido as atualizações dos sistemas, as linhas de código antigas podem não mais funcionar.\n",
        "# Por isso, é essencial para o trabalho de Data Science a criação de Ambientes Virtuais, cujas variáveis, versões e bibliotecas\n",
        "# não são alteradas automaticamente."
      ],
      "metadata": {
        "id": "BJUsA8acVpbn"
      },
      "execution_count": null,
      "outputs": []
    },
    {
      "cell_type": "code",
      "source": [
        "# Em suma, devemos usar o ambiente virtual para garantir que um projeto use uma determinada versão de uma biblioteca.\n",
        "# É importante que cada projeto defina a sua versão da biblioteca em uso para evitar conflitos e incompatibilidades.\n",
        "# Além disso, o ambiente virtual garante que um projeto use uma determinada versão do Python.\n",
        "# Há diferenças entre as versões, e o projeto deve definir isso através do ambiente virtual."
      ],
      "metadata": {
        "id": "yU5BcBugWwgP"
      },
      "execution_count": null,
      "outputs": []
    }
  ]
}